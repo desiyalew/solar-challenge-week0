{
 "cells": [
  {
   "cell_type": "markdown",
   "id": "954f0258",
   "metadata": {},
   "source": [
    "## Data Profiling and Exploratory data analysis"
   ]
  },
  {
   "cell_type": "markdown",
   "id": "83072a4b",
   "metadata": {},
   "source": [
    "## 1. Data Profiling\n",
    "To access the fitness of data for analytics, transformation also it may for integration "
   ]
  }
 ],
 "metadata": {
  "language_info": {
   "name": "python"
  }
 },
 "nbformat": 4,
 "nbformat_minor": 5
}
